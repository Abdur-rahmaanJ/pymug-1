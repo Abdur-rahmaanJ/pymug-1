{
 "cells": [
  {
   "cell_type": "code",
   "execution_count": 8,
   "metadata": {
    "slideshow": {
     "slide_type": "skip"
    }
   },
   "outputs": [],
   "source": [
    "import ipywidgets as widgets\n",
    "from IPython.display import display\n",
    "import matplotlib.pyplot as plt\n",
    "import numpy as np\n",
    "from sklearn.linear_model import LinearRegression\n",
    "from sklearn.preprocessing import PolynomialFeatures\n",
    "from sklearn.pipeline import make_pipeline\n",
    "from sklearn.metrics import mean_squared_error\n",
    "\n",
    "def generate_data(n_points=10, eps=0.1, seed=None):\n",
    "    if seed:\n",
    "        np.random.seed(seed)\n",
    "    if n_points == None:\n",
    "        X = np.linspace(-2.2, 3.2, 1000)\n",
    "        n_points = 1000\n",
    "    else:\n",
    "        X = np.random.uniform(low=-2, high=3, size=n_points)\n",
    "        np.sort(X)\n",
    "    y = X**3 - 2 * X ** 2 + 1.5 ** X + 5 + eps * np.random.normal(size=n_points)\n",
    "    return X, y\n",
    "\n",
    "def fit(X, y, style=\"linear\"):\n",
    "    model = LinearRegression(fit_intercept=True)\n",
    "    feat = np.c_[X]\n",
    "    \n",
    "    if style == \"linear\":\n",
    "        model.fit(feat, y)\n",
    "        return model\n",
    "    elif style == \"poly_2\":\n",
    "        degree = 2\n",
    "    elif style == \"poly_3\":\n",
    "         degree = 3\n",
    "    elif style == \"poly_10\":\n",
    "        degree = 10\n",
    "    pipeline = make_pipeline(PolynomialFeatures(degree=degree), \n",
    "                             LinearRegression())\n",
    "    pipeline.fit(feat, y)\n",
    "    return pipeline\n",
    "        \n",
    "def plot_fit(X, y, style=\"linear\"):\n",
    "    model = fit(np.c_[X], y, style)\n",
    "    X_lin = np.linspace(-2.2, 3.2, 1000)\n",
    "    y_lin = model.predict(np.c_[X_lin])\n",
    "    \n",
    "    plt.plot(X_lin, y_lin, label=\"Fit\", alpha=0.8, ls=\"--\", color=\"blue\", lw=3)\n",
    "    \n",
    "    return model\n",
    "\n",
    "def plot_rmse(X, y, model):\n",
    "    y_pred = model.predict(np.c_[X])\n",
    "    mse = mean_squared_error(y, y_pred)\n",
    "    for i in range(X.shape[0]):\n",
    "        plt.annotate(\"\", xy=(X[i], y[i]), xytext=(X[i], y_pred[i]),\n",
    "                    arrowprops={'arrowstyle': '-', 'color':'red', 'ls': '--'})\n",
    "    plt.text(0.05, 0.05, fontsize=14, s=f\"MSE: {mse}\",)\n",
    "        \n",
    "def plot_validation_samples(n_samples, eps, seed):\n",
    "    X_val, y_val = generate_data(n_points=n_samples, eps=eps, seed=seed)\n",
    "    \n",
    "    plt.scatter(X_val, y_val, s=120, alpha=0.8, color=\"green\", ec=\"k\")\n",
    "\n",
    "def plot(n_points=10, eps=0.1, show_th=True, seed=None, show_xy=False, \n",
    "         fit=None, rmse=True, validation_samples=None, \n",
    "         title=None\n",
    "        ):\n",
    "    fig = plt.figure(figsize=(14, 8))\n",
    "    if show_th:\n",
    "        X_th, y_th = generate_data(n_points=None, eps=0, seed=seed)\n",
    "        plt.plot(X_th, y_th, color=\"gray\", ls=\"--\", lw=3)\n",
    "    X, y = generate_data(n_points=n_points, eps=eps, seed=seed)\n",
    "    plt.scatter(X, y, s=100, alpha=0.8, ec=\"k\")\n",
    "    if show_xy:\n",
    "        plt.xlabel(\"$X$\", fontdict={'size': 20})\n",
    "        plt.ylabel(\"$y$\", fontdict={'size': 20})\n",
    "    plt.tick_params(which='both', axis='both', bottom=False, left=False, labelbottom=False, labelleft=False)\n",
    "    plt.xlim(-2.3, 3.3)\n",
    "    plt.ylim(-15, 20)\n",
    "    \n",
    "    if fit and fit != '':\n",
    "        model = plot_fit(X, y, style=fit)\n",
    "        \n",
    "        if rmse:\n",
    "            plot_rmse(X, y, model)\n",
    "            \n",
    "    if validation_samples:\n",
    "        plot_validation_samples(validation_samples, eps=eps, seed=seed+1)\n",
    "        \n",
    "    if title:\n",
    "        plt.title(title)\n",
    "    \n",
    "def make_plot(style=\"simple\", n_points=10, seed=None):\n",
    "    if style == \"simple\":\n",
    "        plot(n_points=n_points, eps=2, show_th=True, seed=seed)\n",
    "    elif style == \"only_data\":\n",
    "        plot(n_points=n_points, eps=2, show_th=False, seed=seed)\n",
    "    elif style == \"center\":\n",
    "        plot(n_points=n_points, eps=2, show_th=False, seed=5)\n",
    "    elif style == \"xy\":\n",
    "        plot(n_points=n_points, eps=2, show_th=False, seed=5, show_xy=True)\n",
    "        \n",
    "\n",
    "# Create the plot dashboard\n",
    "num_samples = widgets.Dropdown(options=[\n",
    "    ('5 samples', 5),\n",
    "    ('10 samples', 10), ('50 samples', 50), ('100 samples', 100), ('1000 samples', 1000)])\n",
    "plot_style = widgets.Dropdown(options=[('Plain', 'plain'), ('Regression', 'regression'), ('Clustering', 'clustering')])\n",
    "show_th = widgets.Checkbox(value=False, description=\"Show Theoretical Curve\", indent=False)\n",
    "noise = widgets.Dropdown(options=[('Low noise', 0.5), ('Medium noise', 2), ('High noise', 10)], value=2)\n",
    "fitting = widgets.Dropdown(options=[\n",
    "    ('No fit', ''),\n",
    "    ('Linear', 'linear'),\n",
    "    ('Polynomial 2', 'poly_2'),\n",
    "    ('Polynomial 3', 'poly_3'),\n",
    "    ('Polynomial 10', 'poly_10')\n",
    "])\n",
    "show_rmse = widgets.Checkbox(value=False, description=\"Show RMSE\", indent=False)\n",
    "show_val = widgets.Checkbox(value=False, description=\"Show Validation set\", indent=False)\n",
    "\n",
    "plot_output = widgets.Output()\n",
    "plot_output.layout.height = '550px'\n",
    "plot_output.layout.width = '100%'\n",
    "\n",
    "\n",
    "def change_handler(change):\n",
    "    plot_handler(num_samples.value, plot_style.value, show_th.value, \n",
    "                 noise.value, fitting.value, show_rmse.value, show_val.value)\n",
    "    \n",
    "num_samples.observe(change_handler, names='value')\n",
    "plot_style.observe(change_handler, names='value')\n",
    "show_th.observe(change_handler, names=\"value\")\n",
    "noise.observe(change_handler, names='value')\n",
    "fitting.observe(change_handler, names='value')\n",
    "show_rmse.observe(change_handler, names='value')\n",
    "show_val.observe(change_handler, names='value')\n",
    "    \n",
    "def plot_handler(n_points, style, show_th, noise, fitting, rmse, val):\n",
    "    plot_output.clear_output()\n",
    "    if val:\n",
    "        val_sam = 10\n",
    "    else:\n",
    "        val_sam = None\n",
    "    with plot_output:\n",
    "        show_xy = style == 'regression'\n",
    "        plot(n_points=n_points, eps=noise, show_th=show_th, seed=5, \n",
    "             show_xy=show_xy, fit=fitting, rmse=rmse, validation_samples=val_sam)\n",
    "        plt.show()\n",
    "\n",
    "checks = widgets.HBox([show_th, show_rmse, show_val])\n",
    "selects = widgets.HBox([num_samples, noise, fitting])\n",
    "controls = widgets.VBox([selects, checks])\n",
    "\n",
    "dashboard = widgets.VBox([controls, plot_output])\n",
    "change_handler(None)\n"
   ]
  },
  {
   "cell_type": "markdown",
   "metadata": {
    "slideshow": {
     "slide_type": "notes"
    }
   },
   "source": [
    "## Talk plan\n",
    "\n",
    "1. What is ML?\n",
    "\n",
    "    1. A combination of methodology and a collection of algorithms that try to minimize a function by using data.\n",
    "    \n",
    "    2. Three general categories of ML algorithms: \n",
    "    \n",
    "        1. Supervised Learning (Classification / Regression)\n",
    "        2. Unsupervised Learning (Clustering / Anomaly detection / Dimensionality Reduction / ...)\n",
    "        3. Reinforcement Learning (Playing Games / Autonomous Driving / ...)\n",
    "        \n",
    "    3. The methodology is in place to try to avoid common problems arising in ML. \n",
    "    \n",
    "        1. Overfitting and Underfitting: imagine the process of fitting a (polynomial) linear regression model. \n",
    "    \n",
    "    "
   ]
  },
  {
   "cell_type": "markdown",
   "metadata": {
    "slideshow": {
     "slide_type": "slide"
    }
   },
   "source": [
    "# Intoduction to Machine Learning with scikit-learn\n",
    "\n",
    "### Or why Scikit-Learn Rocks!"
   ]
  },
  {
   "cell_type": "markdown",
   "metadata": {
    "slideshow": {
     "slide_type": "slide"
    }
   },
   "source": [
    "# About me"
   ]
  },
  {
   "cell_type": "markdown",
   "metadata": {
    "slideshow": {
     "slide_type": "subslide"
    }
   },
   "source": [
    "<center><img src=\"images/family.jpg\" width=\"100%\" height=\"100%\"></center>"
   ]
  },
  {
   "cell_type": "markdown",
   "metadata": {
    "slideshow": {
     "slide_type": "subslide"
    }
   },
   "source": [
    "* Trained as a physicist"
   ]
  },
  {
   "cell_type": "markdown",
   "metadata": {
    "slideshow": {
     "slide_type": "fragment"
    }
   },
   "source": [
    "* PhD in computational science"
   ]
  },
  {
   "cell_type": "markdown",
   "metadata": {
    "slideshow": {
     "slide_type": "fragment"
    }
   },
   "source": [
    "* Work @ <a href=\"http://schmiede.one\">schmiede.one</a> as a data scientist"
   ]
  },
  {
   "cell_type": "markdown",
   "metadata": {
    "slideshow": {
     "slide_type": "subslide"
    }
   },
   "source": [
    "<img src=\"images/sellnow.png\">"
   ]
  },
  {
   "cell_type": "markdown",
   "metadata": {
    "slideshow": {
     "slide_type": "subslide"
    }
   },
   "source": [
    "## Some disclaimers"
   ]
  },
  {
   "cell_type": "markdown",
   "metadata": {
    "slideshow": {
     "slide_type": "notes"
    }
   },
   "source": [
    "1. Not a computer scientist\n",
    "\n",
    "2. Don't have a lot of experience with sklearn - teach to learn\n",
    "\n",
    "3. Keep it very high level - there are a lot of important details in every step of the way that I skip."
   ]
  },
  {
   "cell_type": "markdown",
   "metadata": {
    "slideshow": {
     "slide_type": "slide"
    }
   },
   "source": [
    "# What is Machine Learning?"
   ]
  },
  {
   "cell_type": "markdown",
   "metadata": {
    "slideshow": {
     "slide_type": "subslide"
    }
   },
   "source": [
    "> A **methodology** together with collection of **algorithms** designed to discover meaningful **patterns** in raw data."
   ]
  },
  {
   "cell_type": "code",
   "execution_count": 2,
   "metadata": {
    "hide_input": true,
    "slideshow": {
     "slide_type": "subslide"
    }
   },
   "outputs": [
    {
     "data": {
      "image/png": "[encoded data removed]",
      "text/plain": [
       "<Figure size 1008x576 with 1 Axes>"
      ]
     },
     "metadata": {},
     "output_type": "display_data"
    }
   ],
   "source": [
    "plot(n_points=10, eps=2, show_th=False, seed=5)\n",
    "plt.show()"
   ]
  },
  {
   "cell_type": "code",
   "execution_count": 3,
   "metadata": {
    "hide_input": true,
    "slideshow": {
     "slide_type": "subslide"
    }
   },
   "outputs": [
    {
     "data": {
      "text/html": [
       "<h4>Regression</h4>"
      ]
     },
     "metadata": {},
     "output_type": "display_data"
    },
    {
     "data": {
      "image/png": "[encoded data removed]",
      "text/plain": [
       "<Figure size 1008x576 with 1 Axes>"
      ]
     },
     "metadata": {},
     "output_type": "display_data"
    }
   ],
   "source": [
    "from IPython.display import display_html\n",
    "display_html(\"<h4>Regression</h4>\", raw=True)\n",
    "plot(n_points=10, eps=2, show_th=False, show_xy=True, seed=5, fit=\"poly_3\", rmse=False)\n",
    "plt.show()"
   ]
  },
  {
   "cell_type": "markdown",
   "metadata": {
    "slideshow": {
     "slide_type": "subslide"
    }
   },
   "source": [
    "#### Clustering\n",
    "<img src=\"images/clusters.png\">"
   ]
  },
  {
   "cell_type": "markdown",
   "metadata": {
    "slideshow": {
     "slide_type": "subslide"
    }
   },
   "source": [
    "#### Classification\n",
    "<img src=\"images/classification.jpg\"/>"
   ]
  },
  {
   "cell_type": "markdown",
   "metadata": {
    "slideshow": {
     "slide_type": "slide"
    }
   },
   "source": [
    "# How Machine Learning Works?"
   ]
  },
  {
   "cell_type": "markdown",
   "metadata": {
    "slideshow": {
     "slide_type": "subslide"
    }
   },
   "source": [
    "1. Collect $N$ data points $X, y$"
   ]
  },
  {
   "cell_type": "markdown",
   "metadata": {
    "slideshow": {
     "slide_type": "fragment"
    }
   },
   "source": [
    "2. Define a model:\n",
    "\n",
    "$$ y \\sim b + a_1 X_1 + a_2 X_2 + \\cdots + \\epsilon $$"
   ]
  },
  {
   "cell_type": "markdown",
   "metadata": {
    "slideshow": {
     "slide_type": "subslide"
    }
   },
   "source": [
    "3. *Fit* the model by finding parameters $a_1, \\ldots, a_n, b$ that minimize the *loss function*:\n",
    "\n",
    "$$ L = \\sum\\limits_{i=1}^N \\left( y_i - \\hat{y}_i \\right)^2 $$"
   ]
  },
  {
   "cell_type": "markdown",
   "metadata": {
    "slideshow": {
     "slide_type": "subslide"
    }
   },
   "source": [
    "4. Evaluate the model and repeat."
   ]
  },
  {
   "cell_type": "markdown",
   "metadata": {
    "slideshow": {
     "slide_type": "fragment"
    }
   },
   "source": [
    "<center><h1>What can go wrong?</h1></center>"
   ]
  },
  {
   "cell_type": "markdown",
   "metadata": {
    "slideshow": {
     "slide_type": "slide"
    }
   },
   "source": [
    "# Problems you ~might~ will face"
   ]
  },
  {
   "cell_type": "markdown",
   "metadata": {
    "slideshow": {
     "slide_type": "subslide"
    }
   },
   "source": [
    "## Not enough data / too noisy data"
   ]
  },
  {
   "cell_type": "code",
   "execution_count": 4,
   "metadata": {
    "hide_input": true,
    "scrolled": false,
    "slideshow": {
     "slide_type": "subslide"
    }
   },
   "outputs": [
    {
     "data": {
      "application/vnd.jupyter.widget-view+json": {
       "model_id": "",
       "version_major": 2,
       "version_minor": 0
      },
      "text/plain": [
       "VBox(children=(VBox(children=(HBox(children=(Dropdown(options=(('5 samples', 5), ('10 samples', 10), ('50 samp…"
      ]
     },
     "metadata": {},
     "output_type": "display_data"
    }
   ],
   "source": [
    "display(dashboard)"
   ]
  },
  {
   "cell_type": "markdown",
   "metadata": {
    "slideshow": {
     "slide_type": "subslide"
    }
   },
   "source": [
    "## Underfitting (high bias)"
   ]
  },
  {
   "cell_type": "code",
   "execution_count": 5,
   "metadata": {
    "hide_input": true,
    "slideshow": {
     "slide_type": "subslide"
    }
   },
   "outputs": [
    {
     "data": {
      "application/vnd.jupyter.widget-view+json": {
       "model_id": "225e9937ee754815b9f244609f03841f",
       "version_major": 2,
       "version_minor": 0
      },
      "text/plain": [
       "VBox(children=(VBox(children=(HBox(children=(Dropdown(options=(('5 samples', 5), ('10 samples', 10), ('50 samp…"
      ]
     },
     "metadata": {},
     "output_type": "display_data"
    }
   ],
   "source": [
    "display(dashboard)"
   ]
  },
  {
   "cell_type": "markdown",
   "metadata": {
    "slideshow": {
     "slide_type": "subslide"
    }
   },
   "source": [
    "## Overfitting (high variance)"
   ]
  },
  {
   "cell_type": "code",
   "execution_count": 6,
   "metadata": {
    "hide_input": true,
    "slideshow": {
     "slide_type": "subslide"
    }
   },
   "outputs": [
    {
     "data": {
      "application/vnd.jupyter.widget-view+json": {
       "model_id": "225e9937ee754815b9f244609f03841f",
       "version_major": 2,
       "version_minor": 0
      },
      "text/plain": [
       "VBox(children=(VBox(children=(HBox(children=(Dropdown(options=(('5 samples', 5), ('10 samples', 10), ('50 samp…"
      ]
     },
     "metadata": {},
     "output_type": "display_data"
    }
   ],
   "source": [
    "display(dashboard)"
   ]
  },
  {
   "cell_type": "markdown",
   "metadata": {
    "hide_input": true,
    "slideshow": {
     "slide_type": "notes"
    }
   },
   "source": [
    "1. Not enough data\n",
    "2. Noisy data\n",
    "3. Underfitting\n",
    "4. Overfitting"
   ]
  },
  {
   "cell_type": "markdown",
   "metadata": {
    "slideshow": {
     "slide_type": "subslide"
    }
   },
   "source": [
    "#### Potential problems\n",
    "\n",
    "1. Not enough data / too noisy data.\n",
    "\n",
    "2. Underfitting - model not rich enough to capture the patterns in the data.\n",
    "\n",
    "3. Overfitting - model fits the data \"too well\" - does not capture general pattern - captures the details."
   ]
  },
  {
   "cell_type": "markdown",
   "metadata": {
    "slideshow": {
     "slide_type": "subslide"
    }
   },
   "source": [
    "#### Possible solutions\n",
    "\n",
    "1. Collect more / different data.\n",
    "\n",
    "2. Use a more advanced model.\n",
    "\n",
    "3. Use validation set, increase data points, regularization."
   ]
  },
  {
   "cell_type": "markdown",
   "metadata": {
    "slideshow": {
     "slide_type": "subslide"
    }
   },
   "source": [
    "<center><img src=\"images/the_ml_process.svg\" height=\"90%\" style=\"max-height: 90%;\"></center>"
   ]
  },
  {
   "cell_type": "markdown",
   "metadata": {
    "hide_input": false,
    "slideshow": {
     "slide_type": "slide"
    }
   },
   "source": []
  }
 ],
 "metadata": {
  "celltoolbar": "Slideshow",
  "kernelspec": {
   "display_name": "Python 3",
   "language": "python",
   "name": "python3"
  },
  "language_info": {
   "codemirror_mode": {
    "name": "ipython",
    "version": 3
   },
   "file_extension": ".py",
   "mimetype": "text/x-python",
   "name": "python",
   "nbconvert_exporter": "python",
   "pygments_lexer": "ipython3",
   "version": "3.7.3"
  },
  "varInspector": {
   "cols": {
    "lenName": 16,
    "lenType": 16,
    "lenVar": 40
   },
   "kernels_config": {
    "python": {
     "delete_cmd_postfix": "",
     "delete_cmd_prefix": "del ",
     "library": "var_list.py",
     "varRefreshCmd": "print(var_dic_list())"
    },
    "r": {
     "delete_cmd_postfix": ") ",
     "delete_cmd_prefix": "rm(",
     "library": "var_list.r",
     "varRefreshCmd": "cat(var_dic_list()) "
    }
   },
   "types_to_exclude": [
    "module",
    "function",
    "builtin_function_or_method",
    "instance",
    "_Feature"
   ],
   "window_display": false
  }
 },
 "nbformat": 4,
 "nbformat_minor": 2
}
